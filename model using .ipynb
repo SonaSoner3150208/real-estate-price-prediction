{
 "cells": [
  {
   "cell_type": "code",
   "execution_count": 11,
   "id": "cafd6ec6-8f8b-4ec1-ad19-aef674a3c0ff",
   "metadata": {},
   "outputs": [],
   "source": [
    "from joblib import dump,load\n",
    "import numpy as np\n",
    "model = load('Dragon.joblib')"
   ]
  },
  {
   "cell_type": "code",
   "execution_count": 12,
   "id": "91230ee0-a52b-4fb1-bb30-8858563705a8",
   "metadata": {},
   "outputs": [
    {
     "data": {
      "text/plain": [
       "array([20.022])"
      ]
     },
     "execution_count": 12,
     "metadata": {},
     "output_type": "execute_result"
    }
   ],
   "source": [
    "input = np.array([[-0.44240493,  4.18549186, -1.12220182, -0.27288841, -1.42282087,\n",
    "       -23.55032105, -1.7403247 ,  2.56479414, -0.99480054, -0.57506151,\n",
    "       -0.98869255,  7.43852974, -0.49633492]])\n",
    "model.predict(input)"
   ]
  },
  {
   "cell_type": "markdown",
   "id": "0d556f4f-0d60-4d27-a95c-e80e0ab6e6d6",
   "metadata": {},
   "source": [
    "## using model"
   ]
  },
  {
   "cell_type": "code",
   "execution_count": 13,
   "id": "7e5997d1-827f-4cd6-b396-02f7d98cfabe",
   "metadata": {},
   "outputs": [
    {
     "data": {
      "text/plain": [
       "array([20.022])"
      ]
     },
     "execution_count": 13,
     "metadata": {},
     "output_type": "execute_result"
    }
   ],
   "source": [
    "from joblib import dump,load\n",
    "import numpy as np\n",
    "model = load('Dragon.joblib')\n",
    "input = np.array([[-0.44240493,  4.18549186, -1.12220182, -0.27288841, -1.42282087,\n",
    "       -23.55032105, -1.7403247 ,  2.56479414, -0.99480054, -0.57506151,\n",
    "       -0.98869255,  7.43852974, -0.49633492]])\n",
    "model.predict(input)\n"
   ]
  },
  {
   "cell_type": "code",
   "execution_count": null,
   "id": "3bb01f50-3e3f-43d2-810a-e07f48ec4a66",
   "metadata": {},
   "outputs": [],
   "source": []
  }
 ],
 "metadata": {
  "kernelspec": {
   "display_name": "Python 3 (ipykernel)",
   "language": "python",
   "name": "python3"
  },
  "language_info": {
   "codemirror_mode": {
    "name": "ipython",
    "version": 3
   },
   "file_extension": ".py",
   "mimetype": "text/x-python",
   "name": "python",
   "nbconvert_exporter": "python",
   "pygments_lexer": "ipython3",
   "version": "3.13.2"
  }
 },
 "nbformat": 4,
 "nbformat_minor": 5
}
